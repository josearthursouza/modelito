{
 "cells": [
  {
   "cell_type": "code",
   "execution_count": 1,
   "metadata": {},
   "outputs": [],
   "source": [
    "import sympy"
   ]
  },
  {
   "cell_type": "code",
   "execution_count": 2,
   "metadata": {},
   "outputs": [],
   "source": [
    "%display typeset"
   ]
  },
  {
   "cell_type": "code",
   "execution_count": 3,
   "metadata": {},
   "outputs": [
    {
     "data": {
      "text/html": [
       "<html><script type=\"math/tex; mode=display\">\\newcommand{\\Bold}[1]{\\mathbf{#1}}\\left(Q, S, E, I, R, D, a, b, c, d, e, f, \\mathit{lam}\\right)</script></html>"
      ],
      "text/plain": [
       "(Q, S, E, I, R, D, a, b, c, d, e, f, lam)"
      ]
     },
     "execution_count": 3,
     "metadata": {},
     "output_type": "execute_result"
    }
   ],
   "source": [
    "var('Q S E I R D a b c d e f lam')"
   ]
  },
  {
   "cell_type": "code",
   "execution_count": 4,
   "metadata": {},
   "outputs": [],
   "source": [
    "lam = c*I\n",
    "dQdt=a*S - b*Q\n",
    "dSdt=-a*S + b*Q - lam*S\n",
    "dEdt=lam*S - d*E\n",
    "dIdt=d*E - (e+f)*I\n",
    "dRdt=f*I\n",
    "dDdt=e*I"
   ]
  },
  {
   "cell_type": "code",
   "execution_count": 5,
   "metadata": {},
   "outputs": [
    {
     "data": {
      "text/html": [
       "<html><script type=\"math/tex; mode=display\">\\newcommand{\\Bold}[1]{\\mathbf{#1}}\\left[\\left[Q = r_{1}, S = \\frac{b r_{1}}{a}, E = 0, I = 0\\right]\\right]</script></html>"
      ],
      "text/plain": [
       "[[Q == r1, S == b*r1/a, E == 0, I == 0]]"
      ]
     },
     "execution_count": 5,
     "metadata": {},
     "output_type": "execute_result"
    }
   ],
   "source": [
    "solve([dQdt, dSdt,dEdt,dIdt],[Q,S,E,I])"
   ]
  },
  {
   "cell_type": "code",
   "execution_count": 6,
   "metadata": {},
   "outputs": [
    {
     "data": {
      "text/html": [
       "<html><script type=\"math/tex; mode=display\">\\newcommand{\\Bold}[1]{\\mathbf{#1}}\\left(\\begin{array}{rrrr}\n",
       "-b & a & 0 & 0 \\\\\n",
       "b & -I c - a & 0 & -S c \\\\\n",
       "0 & I c & -d & S c \\\\\n",
       "0 & 0 & d & -e - f\n",
       "\\end{array}\\right)</script></html>"
      ],
      "text/plain": [
       "[      -b        a        0        0]\n",
       "[       b -I*c - a        0     -S*c]\n",
       "[       0      I*c       -d      S*c]\n",
       "[       0        0        d   -e - f]"
      ]
     },
     "execution_count": 6,
     "metadata": {},
     "output_type": "execute_result"
    }
   ],
   "source": [
    "jack=jacobian([dQdt, dSdt,dEdt,dIdt],[Q,S,E,I])\n",
    "jack"
   ]
  },
  {
   "cell_type": "code",
   "execution_count": 7,
   "metadata": {},
   "outputs": [
    {
     "data": {
      "text/html": [
       "<html><script type=\"math/tex; mode=display\">\\newcommand{\\Bold}[1]{\\mathbf{#1}}x^{4} + \\left(I c + a + b + d + e + f\\right) x^{3} + \\left(I b c + I c d - S c d + I c e + I c f + a d + b d + a e + b e + d e + a f + b f + d f\\right) x^{2} + \\left(-S a c d + I b c d - S b c d + I b c e + I c d e + I b c f + I c d f + a d e + b d e + a d f + b d f\\right) x + I b c d e + I b c d f</script></html>"
      ],
      "text/plain": [
       "x^4 + (I*c + a + b + d + e + f)*x^3 + (I*b*c + I*c*d - S*c*d + I*c*e + I*c*f + a*d + b*d + a*e + b*e + d*e + a*f + b*f + d*f)*x^2 + (-S*a*c*d + I*b*c*d - S*b*c*d + I*b*c*e + I*c*d*e + I*b*c*f + I*c*d*f + a*d*e + b*d*e + a*d*f + b*d*f)*x + I*b*c*d*e + I*b*c*d*f"
      ]
     },
     "execution_count": 7,
     "metadata": {},
     "output_type": "execute_result"
    }
   ],
   "source": [
    "cp = jack.characteristic_polynomial()\n",
    "cp"
   ]
  },
  {
   "cell_type": "code",
   "execution_count": 8,
   "metadata": {},
   "outputs": [
    {
     "data": {
      "text/html": [
       "<html><script type=\"math/tex; mode=display\">\\newcommand{\\Bold}[1]{\\mathbf{#1}}\\left(\\begin{array}{r}\n",
       "I S c \\\\\n",
       "0\n",
       "\\end{array}\\right)</script></html>"
      ],
      "text/plain": [
       "[I*S*c]\n",
       "[    0]"
      ]
     },
     "execution_count": 8,
     "metadata": {},
     "output_type": "execute_result"
    }
   ],
   "source": [
    "F_cal = matrix([[lam*S],[0]])\n",
    "F_cal"
   ]
  },
  {
   "cell_type": "code",
   "execution_count": 9,
   "metadata": {},
   "outputs": [
    {
     "data": {
      "text/html": [
       "<html><script type=\"math/tex; mode=display\">\\newcommand{\\Bold}[1]{\\mathbf{#1}}\\left(\\begin{array}{r}\n",
       "E d \\\\\n",
       "I {\\left(e + f\\right)}\n",
       "\\end{array}\\right)</script></html>"
      ],
      "text/plain": [
       "[      E*d]\n",
       "[I*(e + f)]"
      ]
     },
     "execution_count": 9,
     "metadata": {},
     "output_type": "execute_result"
    }
   ],
   "source": [
    "V_cal_neg = matrix([[d*E],[(e+f)*I]])\n",
    "V_cal_neg"
   ]
  },
  {
   "cell_type": "code",
   "execution_count": 10,
   "metadata": {},
   "outputs": [
    {
     "data": {
      "text/html": [
       "<html><script type=\"math/tex; mode=display\">\\newcommand{\\Bold}[1]{\\mathbf{#1}}\\left(\\begin{array}{r}\n",
       "0 \\\\\n",
       "E d\n",
       "\\end{array}\\right)</script></html>"
      ],
      "text/plain": [
       "[  0]\n",
       "[E*d]"
      ]
     },
     "execution_count": 10,
     "metadata": {},
     "output_type": "execute_result"
    }
   ],
   "source": [
    "V_cal_pos = matrix([[0],[d*E]])\n",
    "V_cal_pos"
   ]
  },
  {
   "cell_type": "code",
   "execution_count": 11,
   "metadata": {},
   "outputs": [
    {
     "data": {
      "text/html": [
       "<html><script type=\"math/tex; mode=display\">\\newcommand{\\Bold}[1]{\\mathbf{#1}}\\left(\\begin{array}{r}\n",
       "E d \\\\\n",
       "-E d + I {\\left(e + f\\right)}\n",
       "\\end{array}\\right)</script></html>"
      ],
      "text/plain": [
       "[             E*d]\n",
       "[-E*d + I*(e + f)]"
      ]
     },
     "execution_count": 11,
     "metadata": {},
     "output_type": "execute_result"
    }
   ],
   "source": [
    "V_cal = V_cal_neg-V_cal_pos\n",
    "V_cal"
   ]
  },
  {
   "cell_type": "code",
   "execution_count": 12,
   "metadata": {},
   "outputs": [
    {
     "data": {
      "text/html": [
       "<html><script type=\"math/tex; mode=display\">\\newcommand{\\Bold}[1]{\\mathbf{#1}}\\left(\\begin{array}{rr}\n",
       "0 & c \\\\\n",
       "0 & 0\n",
       "\\end{array}\\right)</script></html>"
      ],
      "text/plain": [
       "[0 c]\n",
       "[0 0]"
      ]
     },
     "execution_count": 12,
     "metadata": {},
     "output_type": "execute_result"
    }
   ],
   "source": [
    "F = jacobian(F_cal(S=1),[E,I])\n",
    "F"
   ]
  },
  {
   "cell_type": "code",
   "execution_count": 13,
   "metadata": {},
   "outputs": [
    {
     "data": {
      "text/html": [
       "<html><script type=\"math/tex; mode=display\">\\newcommand{\\Bold}[1]{\\mathbf{#1}}\\left(\\begin{array}{rr}\n",
       "d & 0 \\\\\n",
       "-d & e + f\n",
       "\\end{array}\\right)</script></html>"
      ],
      "text/plain": [
       "[    d     0]\n",
       "[   -d e + f]"
      ]
     },
     "execution_count": 13,
     "metadata": {},
     "output_type": "execute_result"
    }
   ],
   "source": [
    "V = jacobian(V_cal(S=1),[E,I])\n",
    "V"
   ]
  },
  {
   "cell_type": "code",
   "execution_count": 14,
   "metadata": {},
   "outputs": [
    {
     "data": {
      "text/html": [
       "<html><script type=\"math/tex; mode=display\">\\newcommand{\\Bold}[1]{\\mathbf{#1}}\\left(\\begin{array}{rr}\n",
       "\\frac{c}{e + f} & \\frac{c}{e + f} \\\\\n",
       "0 & 0\n",
       "\\end{array}\\right)</script></html>"
      ],
      "text/plain": [
       "[c/(e + f) c/(e + f)]\n",
       "[        0         0]"
      ]
     },
     "execution_count": 14,
     "metadata": {},
     "output_type": "execute_result"
    }
   ],
   "source": [
    "M = F*V.inverse()\n",
    "M"
   ]
  },
  {
   "cell_type": "code",
   "execution_count": 15,
   "metadata": {},
   "outputs": [
    {
     "data": {
      "text/html": [
       "<html><script type=\"math/tex; mode=display\">\\newcommand{\\Bold}[1]{\\mathbf{#1}}\\left(\\begin{array}{rr}\n",
       "\\frac{c}{e + f} & \\frac{c}{e + f} \\\\\n",
       "0 & 0\n",
       "\\end{array}\\right)</script></html>"
      ],
      "text/plain": [
       "[c/(e + f) c/(e + f)]\n",
       "[        0         0]"
      ]
     },
     "execution_count": 15,
     "metadata": {},
     "output_type": "execute_result"
    }
   ],
   "source": [
    "M=M.simplify_full()\n",
    "M"
   ]
  },
  {
   "cell_type": "code",
   "execution_count": 16,
   "metadata": {},
   "outputs": [
    {
     "data": {
      "text/html": [
       "<html><script type=\"math/tex; mode=display\">\\newcommand{\\Bold}[1]{\\mathbf{#1}}\\left[\\frac{c}{e + f}, 0\\right]</script></html>"
      ],
      "text/plain": [
       "[c/(e + f), 0]"
      ]
     },
     "execution_count": 16,
     "metadata": {},
     "output_type": "execute_result"
    }
   ],
   "source": [
    "M.eigenvalues()"
   ]
  },
  {
   "cell_type": "code",
   "execution_count": 17,
   "metadata": {},
   "outputs": [
    {
     "data": {
      "text/html": [
       "<html><script type=\"math/tex; mode=display\">\\newcommand{\\Bold}[1]{\\mathbf{#1}}\\frac{c}{e + f}</script></html>"
      ],
      "text/plain": [
       "c/(e + f)"
      ]
     },
     "execution_count": 17,
     "metadata": {},
     "output_type": "execute_result"
    }
   ],
   "source": [
    "M[0,0]"
   ]
  },
  {
   "cell_type": "code",
   "execution_count": 18,
   "metadata": {},
   "outputs": [
    {
     "data": {
      "text/html": [
       "<html><script type=\"math/tex; mode=display\">\\newcommand{\\Bold}[1]{\\mathbf{#1}}\\frac{c}{e + f}</script></html>"
      ],
      "text/plain": [
       "c/(e + f)"
      ]
     },
     "execution_count": 18,
     "metadata": {},
     "output_type": "execute_result"
    }
   ],
   "source": [
    "R0=M[0,0].simplify_full()\n",
    "R0"
   ]
  },
  {
   "cell_type": "code",
   "execution_count": 19,
   "metadata": {},
   "outputs": [
    {
     "data": {
      "text/html": [
       "<html><script type=\"math/tex; mode=display\">\\newcommand{\\Bold}[1]{\\mathbf{#1}}\\left(c, e, f\\right)</script></html>"
      ],
      "text/plain": [
       "(c, e, f)"
      ]
     },
     "execution_count": 19,
     "metadata": {},
     "output_type": "execute_result"
    }
   ],
   "source": [
    "R0.variables()"
   ]
  },
  {
   "cell_type": "code",
   "execution_count": 20,
   "metadata": {
    "scrolled": true
   },
   "outputs": [
    {
     "data": {
      "text/html": [
       "<script type=\"math/tex\">R_t=</script>"
      ],
      "text/plain": [
       "<script type=\"math/tex\">R_t=</script>"
      ]
     },
     "metadata": {},
     "output_type": "display_data"
    },
    {
     "data": {
      "text/html": [
       "<html><script type=\"math/tex; mode=display\">\\newcommand{\\Bold}[1]{\\mathbf{#1}}\\mathrm{None}</script></html>"
      ],
      "text/plain": [
       "None"
      ]
     },
     "metadata": {},
     "output_type": "display_data"
    },
    {
     "data": {
      "text/html": [
       "<html><script type=\"math/tex; mode=display\">\\newcommand{\\Bold}[1]{\\mathbf{#1}}\\frac{S c}{e + f}</script></html>"
      ],
      "text/plain": [
       "S*c/(e + f)"
      ]
     },
     "execution_count": 20,
     "metadata": {},
     "output_type": "execute_result"
    }
   ],
   "source": [
    "Ft = jacobian(F_cal,[E,I])\n",
    "Vt = jacobian(V_cal,[E,I])\n",
    "Mt = Ft*Vt.inverse()\n",
    "show(pretty_print(html('$R_t=$')))\n",
    "Rt = Mt[0,0]\n",
    "Rt"
   ]
  },
  {
   "cell_type": "code",
   "execution_count": 21,
   "metadata": {
    "scrolled": true
   },
   "outputs": [
    {
     "name": "stdout",
     "output_type": "stream",
     "text": [
      "S*c/(e + f)\n"
     ]
    }
   ],
   "source": [
    "print(Rt)"
   ]
  },
  {
   "cell_type": "code",
   "execution_count": 22,
   "metadata": {},
   "outputs": [
    {
     "data": {
      "text/html": [
       "<html><script type=\"math/tex; mode=display\">\\newcommand{\\Bold}[1]{\\mathbf{#1}}3.33333333333333</script></html>"
      ],
      "text/plain": [
       "3.33333333333333"
      ]
     },
     "execution_count": 22,
     "metadata": {},
     "output_type": "execute_result"
    }
   ],
   "source": [
    "R0(a=.02, c=.3, e=.04, f=.05)"
   ]
  },
  {
   "cell_type": "code",
   "execution_count": 23,
   "metadata": {},
   "outputs": [
    {
     "data": {
      "image/png": "[encoded data removed]",
      "text/plain": [
       "Graphics object consisting of 1 graphics primitive"
      ]
     },
     "metadata": {},
     "output_type": "display_data"
    }
   ],
   "source": [
    "P = plot(Rt(a=.02, c=.3, e=.04, f=.05),(S,0,1))\n",
    "P.show(axes_labels=['S(t)','$R_t$'], gridlines=True)"
   ]
  },
  {
   "cell_type": "code",
   "execution_count": 30,
   "metadata": {},
   "outputs": [],
   "source": [
    "###Análise da estabilidade"
   ]
  },
  {
   "cell_type": "code",
   "execution_count": 24,
   "metadata": {},
   "outputs": [
    {
     "data": {
      "text/html": [
       "<html><script type=\"math/tex; mode=display\">\\newcommand{\\Bold}[1]{\\mathbf{#1}}-4 \\, I b c d e - 4 \\, I b c d f + {\\left(I c + a + b + d + e + f\\right)}^{2}</script></html>"
      ],
      "text/plain": [
       "-4*I*b*c*d*e - 4*I*b*c*d*f + (I*c + a + b + d + e + f)^2"
      ]
     },
     "execution_count": 24,
     "metadata": {},
     "output_type": "execute_result"
    }
   ],
   "source": [
    "q = det(jack)\n",
    "p = jack[0, 0] + jack[1, 1] + jack[2, 2] + jack[3, 3]\n",
    "delta = p**2 -4*q\n",
    "delta"
   ]
  },
  {
   "cell_type": "code",
   "execution_count": 29,
   "metadata": {},
   "outputs": [
    {
     "data": {
      "text/html": [
       "<html><script type=\"math/tex; mode=display\">\\newcommand{\\Bold}[1]{\\mathbf{#1}}I^{2} c^{2} + a^{2} + 2 \\, a b + b^{2} + 2 \\, {\\left(I a + I b\\right)} c + 2 \\, {\\left(I c + a + b\\right)} d + d^{2} + 2 \\, {\\left(I c - {\\left(2 \\, I b c - 1\\right)} d + a + b\\right)} e + e^{2} + 2 \\, {\\left(I c - {\\left(2 \\, I b c - 1\\right)} d + a + b + e\\right)} f + f^{2}</script></html>"
      ],
      "text/plain": [
       "I^2*c^2 + a^2 + 2*a*b + b^2 + 2*(I*a + I*b)*c + 2*(I*c + a + b)*d + d^2 + 2*(I*c - (2*I*b*c - 1)*d + a + b)*e + e^2 + 2*(I*c - (2*I*b*c - 1)*d + a + b + e)*f + f^2"
      ]
     },
     "execution_count": 29,
     "metadata": {},
     "output_type": "execute_result"
    }
   ],
   "source": [
    "delta.simplify_full()"
   ]
  },
  {
   "cell_type": "code",
   "execution_count": 25,
   "metadata": {},
   "outputs": [
    {
     "data": {
      "text/html": [
       "<html><script type=\"math/tex; mode=display\">\\newcommand{\\Bold}[1]{\\mathbf{#1}}-I c - a - b - d - e - f</script></html>"
      ],
      "text/plain": [
       "-I*c - a - b - d - e - f"
      ]
     },
     "execution_count": 25,
     "metadata": {},
     "output_type": "execute_result"
    }
   ],
   "source": [
    "p"
   ]
  },
  {
   "cell_type": "code",
   "execution_count": 26,
   "metadata": {},
   "outputs": [
    {
     "data": {
      "text/html": [
       "<html><script type=\"math/tex; mode=display\">\\newcommand{\\Bold}[1]{\\mathbf{#1}}I b c d e + I b c d f</script></html>"
      ],
      "text/plain": [
       "I*b*c*d*e + I*b*c*d*f"
      ]
     },
     "execution_count": 26,
     "metadata": {},
     "output_type": "execute_result"
    }
   ],
   "source": [
    "q"
   ]
  },
  {
   "cell_type": "code",
   "execution_count": null,
   "metadata": {},
   "outputs": [],
   "source": []
  }
 ],
 "metadata": {
  "kernelspec": {
   "display_name": "SageMath 9.0",
   "language": "sage",
   "name": "sagemath"
  },
  "language_info": {
   "codemirror_mode": {
    "name": "ipython",
    "version": 3
   },
   "file_extension": ".py",
   "mimetype": "text/x-python",
   "name": "python",
   "nbconvert_exporter": "python",
   "pygments_lexer": "ipython3",
   "version": "3.7.3"
  }
 },
 "nbformat": 4,
 "nbformat_minor": 2
}
