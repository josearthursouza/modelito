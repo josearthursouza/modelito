{
 "cells": [
  {
   "cell_type": "code",
   "execution_count": 1,
   "metadata": {},
   "outputs": [],
   "source": [
    "import sympy"
   ]
  },
  {
   "cell_type": "code",
   "execution_count": 5,
   "metadata": {},
   "outputs": [],
   "source": [
    "%display typeset"
   ]
  },
  {
   "cell_type": "code",
   "execution_count": 22,
   "metadata": {},
   "outputs": [
    {
     "data": {
      "text/html": [
       "<html><script type=\"math/tex; mode=display\">\\newcommand{\\Bold}[1]{\\mathbf{#1}}\\left(Q, S, E, I, R, D, a, b, c, d, e, f, \\mathit{lam}\\right)</script></html>"
      ],
      "text/plain": [
       "(Q, S, E, I, R, D, a, b, c, d, e, f, lam)"
      ]
     },
     "execution_count": 22,
     "metadata": {},
     "output_type": "execute_result"
    }
   ],
   "source": [
    "var('Q S E I R D a b c d e f lam')"
   ]
  },
  {
   "cell_type": "code",
   "execution_count": 48,
   "metadata": {},
   "outputs": [],
   "source": [
    "lam = c*I\n",
    "dQdt=a*I*S - b*(1/I)*Q\n",
    "dSdt=-a*I*S + b*(1/I)*Q - lam*S\n",
    "dEdt=lam*S - d*E\n",
    "dIdt=d*E - (e+f)*I\n",
    "dRdt=f*I\n",
    "dDdt=e*I"
   ]
  },
  {
   "cell_type": "code",
   "execution_count": 49,
   "metadata": {},
   "outputs": [
    {
     "data": {
      "text/html": [
       "<html><script type=\"math/tex; mode=display\">\\newcommand{\\Bold}[1]{\\mathbf{#1}}\\left[\\left[Q = 0, S = r_{5}, E = 0, I = 0\\right]\\right]</script></html>"
      ],
      "text/plain": [
       "[[Q == 0, S == r5, E == 0, I == 0]]"
      ]
     },
     "execution_count": 49,
     "metadata": {},
     "output_type": "execute_result"
    }
   ],
   "source": [
    "solve([dQdt, dSdt,dEdt,dIdt],[Q,S,E,I])"
   ]
  },
  {
   "cell_type": "code",
   "execution_count": 50,
   "metadata": {},
   "outputs": [
    {
     "data": {
      "text/html": [
       "<html><script type=\"math/tex; mode=display\">\\newcommand{\\Bold}[1]{\\mathbf{#1}}\\left(\\begin{array}{rrrr}\n",
       "-\\frac{b}{I} & I a & 0 & S a + \\frac{Q b}{I^{2}} \\\\\n",
       "\\frac{b}{I} & -I a - I c & 0 & -S a - S c - \\frac{Q b}{I^{2}} \\\\\n",
       "0 & I c & -d & S c \\\\\n",
       "0 & 0 & d & -e - f\n",
       "\\end{array}\\right)</script></html>"
      ],
      "text/plain": [
       "[                -b/I                  I*a                    0        S*a + Q*b/I^2]\n",
       "[                 b/I           -I*a - I*c                    0 -S*a - S*c - Q*b/I^2]\n",
       "[                   0                  I*c                   -d                  S*c]\n",
       "[                   0                    0                    d               -e - f]"
      ]
     },
     "execution_count": 50,
     "metadata": {},
     "output_type": "execute_result"
    }
   ],
   "source": [
    "jack=jacobian([dQdt, dSdt,dEdt,dIdt],[Q,S,E,I])\n",
    "jack"
   ]
  },
  {
   "cell_type": "code",
   "execution_count": 51,
   "metadata": {},
   "outputs": [
    {
     "data": {
      "text/html": [
       "<html><script type=\"math/tex; mode=display\">\\newcommand{\\Bold}[1]{\\mathbf{#1}}x^{4} + \\left(I a + I c + d + e + f + \\frac{b}{I}\\right) x^{3} + \\left(I a d + I c d - S c d + I a e + I c e + I a f + I c f + b c + d e + d f + \\frac{b d}{I} + \\frac{b e}{I} + \\frac{b f}{I}\\right) x^{2} + \\left(I a d e + I c d e + I a d f + I c d f + \\frac{Q b c d}{I} - \\frac{S b c d}{I} + b c d + b c e + b c f + \\frac{b d e}{I} + \\frac{b d f}{I}\\right) x + b c d e + b c d f</script></html>"
      ],
      "text/plain": [
       "x^4 + (I*a + I*c + d + e + f + b/I)*x^3 + (I*a*d + I*c*d - S*c*d + I*a*e + I*c*e + I*a*f + I*c*f + b*c + d*e + d*f + b*d/I + b*e/I + b*f/I)*x^2 + (I*a*d*e + I*c*d*e + I*a*d*f + I*c*d*f + Q*b*c*d/I - S*b*c*d/I + b*c*d + b*c*e + b*c*f + b*d*e/I + b*d*f/I)*x + b*c*d*e + b*c*d*f"
      ]
     },
     "execution_count": 51,
     "metadata": {},
     "output_type": "execute_result"
    }
   ],
   "source": [
    "cp = jack.characteristic_polynomial()\n",
    "cp"
   ]
  },
  {
   "cell_type": "code",
   "execution_count": 52,
   "metadata": {},
   "outputs": [
    {
     "data": {
      "text/html": [
       "<html><script type=\"math/tex; mode=display\">\\newcommand{\\Bold}[1]{\\mathbf{#1}}\\left(\\begin{array}{r}\n",
       "I S c \\\\\n",
       "0\n",
       "\\end{array}\\right)</script></html>"
      ],
      "text/plain": [
       "[I*S*c]\n",
       "[    0]"
      ]
     },
     "execution_count": 52,
     "metadata": {},
     "output_type": "execute_result"
    }
   ],
   "source": [
    "F_cal = matrix([[lam*S],[0]])\n",
    "F_cal"
   ]
  },
  {
   "cell_type": "code",
   "execution_count": 53,
   "metadata": {},
   "outputs": [
    {
     "data": {
      "text/html": [
       "<html><script type=\"math/tex; mode=display\">\\newcommand{\\Bold}[1]{\\mathbf{#1}}\\left(\\begin{array}{r}\n",
       "E d \\\\\n",
       "I {\\left(e + f\\right)}\n",
       "\\end{array}\\right)</script></html>"
      ],
      "text/plain": [
       "[      E*d]\n",
       "[I*(e + f)]"
      ]
     },
     "execution_count": 53,
     "metadata": {},
     "output_type": "execute_result"
    }
   ],
   "source": [
    "V_cal_neg = matrix([[d*E],[(e+f)*I]])\n",
    "V_cal_neg"
   ]
  },
  {
   "cell_type": "code",
   "execution_count": 54,
   "metadata": {},
   "outputs": [
    {
     "data": {
      "text/html": [
       "<html><script type=\"math/tex; mode=display\">\\newcommand{\\Bold}[1]{\\mathbf{#1}}\\left(\\begin{array}{r}\n",
       "0 \\\\\n",
       "E d\n",
       "\\end{array}\\right)</script></html>"
      ],
      "text/plain": [
       "[  0]\n",
       "[E*d]"
      ]
     },
     "execution_count": 54,
     "metadata": {},
     "output_type": "execute_result"
    }
   ],
   "source": [
    "V_cal_pos = matrix([[0],[d*E]])\n",
    "V_cal_pos"
   ]
  },
  {
   "cell_type": "code",
   "execution_count": 55,
   "metadata": {},
   "outputs": [
    {
     "data": {
      "text/html": [
       "<html><script type=\"math/tex; mode=display\">\\newcommand{\\Bold}[1]{\\mathbf{#1}}\\left(\\begin{array}{r}\n",
       "E d \\\\\n",
       "-E d + I {\\left(e + f\\right)}\n",
       "\\end{array}\\right)</script></html>"
      ],
      "text/plain": [
       "[             E*d]\n",
       "[-E*d + I*(e + f)]"
      ]
     },
     "execution_count": 55,
     "metadata": {},
     "output_type": "execute_result"
    }
   ],
   "source": [
    "V_cal = V_cal_neg-V_cal_pos\n",
    "V_cal"
   ]
  },
  {
   "cell_type": "code",
   "execution_count": 56,
   "metadata": {},
   "outputs": [
    {
     "data": {
      "text/html": [
       "<html><script type=\"math/tex; mode=display\">\\newcommand{\\Bold}[1]{\\mathbf{#1}}\\left(\\begin{array}{rr}\n",
       "0 & c \\\\\n",
       "0 & 0\n",
       "\\end{array}\\right)</script></html>"
      ],
      "text/plain": [
       "[0 c]\n",
       "[0 0]"
      ]
     },
     "execution_count": 56,
     "metadata": {},
     "output_type": "execute_result"
    }
   ],
   "source": [
    "F = jacobian(F_cal(S=1),[E,I])\n",
    "F"
   ]
  },
  {
   "cell_type": "code",
   "execution_count": 57,
   "metadata": {},
   "outputs": [
    {
     "data": {
      "text/html": [
       "<html><script type=\"math/tex; mode=display\">\\newcommand{\\Bold}[1]{\\mathbf{#1}}\\left(\\begin{array}{rr}\n",
       "d & 0 \\\\\n",
       "-d & e + f\n",
       "\\end{array}\\right)</script></html>"
      ],
      "text/plain": [
       "[    d     0]\n",
       "[   -d e + f]"
      ]
     },
     "execution_count": 57,
     "metadata": {},
     "output_type": "execute_result"
    }
   ],
   "source": [
    "V = jacobian(V_cal(S=1),[E,I])\n",
    "V"
   ]
  },
  {
   "cell_type": "code",
   "execution_count": 58,
   "metadata": {},
   "outputs": [
    {
     "data": {
      "text/html": [
       "<html><script type=\"math/tex; mode=display\">\\newcommand{\\Bold}[1]{\\mathbf{#1}}\\left(\\begin{array}{rr}\n",
       "\\frac{c}{e + f} & \\frac{c}{e + f} \\\\\n",
       "0 & 0\n",
       "\\end{array}\\right)</script></html>"
      ],
      "text/plain": [
       "[c/(e + f) c/(e + f)]\n",
       "[        0         0]"
      ]
     },
     "execution_count": 58,
     "metadata": {},
     "output_type": "execute_result"
    }
   ],
   "source": [
    "M = F*V.inverse()\n",
    "M"
   ]
  },
  {
   "cell_type": "code",
   "execution_count": 59,
   "metadata": {},
   "outputs": [
    {
     "data": {
      "text/html": [
       "<html><script type=\"math/tex; mode=display\">\\newcommand{\\Bold}[1]{\\mathbf{#1}}\\left(\\begin{array}{rr}\n",
       "\\frac{c}{e + f} & \\frac{c}{e + f} \\\\\n",
       "0 & 0\n",
       "\\end{array}\\right)</script></html>"
      ],
      "text/plain": [
       "[c/(e + f) c/(e + f)]\n",
       "[        0         0]"
      ]
     },
     "execution_count": 59,
     "metadata": {},
     "output_type": "execute_result"
    }
   ],
   "source": [
    "M=M.simplify_full()\n",
    "M"
   ]
  },
  {
   "cell_type": "code",
   "execution_count": 60,
   "metadata": {},
   "outputs": [
    {
     "data": {
      "text/html": [
       "<html><script type=\"math/tex; mode=display\">\\newcommand{\\Bold}[1]{\\mathbf{#1}}\\left[\\frac{c}{e + f}, 0\\right]</script></html>"
      ],
      "text/plain": [
       "[c/(e + f), 0]"
      ]
     },
     "execution_count": 60,
     "metadata": {},
     "output_type": "execute_result"
    }
   ],
   "source": [
    "M.eigenvalues()"
   ]
  },
  {
   "cell_type": "code",
   "execution_count": 61,
   "metadata": {},
   "outputs": [
    {
     "data": {
      "text/html": [
       "<html><script type=\"math/tex; mode=display\">\\newcommand{\\Bold}[1]{\\mathbf{#1}}\\frac{c}{e + f}</script></html>"
      ],
      "text/plain": [
       "c/(e + f)"
      ]
     },
     "execution_count": 61,
     "metadata": {},
     "output_type": "execute_result"
    }
   ],
   "source": [
    "M[0,0]"
   ]
  },
  {
   "cell_type": "code",
   "execution_count": 62,
   "metadata": {},
   "outputs": [
    {
     "data": {
      "text/html": [
       "<html><script type=\"math/tex; mode=display\">\\newcommand{\\Bold}[1]{\\mathbf{#1}}\\frac{c}{e + f}</script></html>"
      ],
      "text/plain": [
       "c/(e + f)"
      ]
     },
     "execution_count": 62,
     "metadata": {},
     "output_type": "execute_result"
    }
   ],
   "source": [
    "R0=M[0,0].simplify_full()\n",
    "R0"
   ]
  },
  {
   "cell_type": "code",
   "execution_count": 63,
   "metadata": {},
   "outputs": [
    {
     "data": {
      "text/html": [
       "<html><script type=\"math/tex; mode=display\">\\newcommand{\\Bold}[1]{\\mathbf{#1}}\\left(c, e, f\\right)</script></html>"
      ],
      "text/plain": [
       "(c, e, f)"
      ]
     },
     "execution_count": 63,
     "metadata": {},
     "output_type": "execute_result"
    }
   ],
   "source": [
    "R0.variables()"
   ]
  },
  {
   "cell_type": "code",
   "execution_count": 64,
   "metadata": {
    "scrolled": true
   },
   "outputs": [
    {
     "data": {
      "text/html": [
       "<script type=\"math/tex\">R_t=</script>"
      ],
      "text/plain": [
       "<script type=\"math/tex\">R_t=</script>"
      ]
     },
     "metadata": {},
     "output_type": "display_data"
    },
    {
     "data": {
      "text/html": [
       "<html><script type=\"math/tex; mode=display\">\\newcommand{\\Bold}[1]{\\mathbf{#1}}\\mathrm{None}</script></html>"
      ],
      "text/plain": [
       "None"
      ]
     },
     "metadata": {},
     "output_type": "display_data"
    },
    {
     "data": {
      "text/html": [
       "<html><script type=\"math/tex; mode=display\">\\newcommand{\\Bold}[1]{\\mathbf{#1}}\\frac{S c}{e + f}</script></html>"
      ],
      "text/plain": [
       "S*c/(e + f)"
      ]
     },
     "execution_count": 64,
     "metadata": {},
     "output_type": "execute_result"
    }
   ],
   "source": [
    "Ft = jacobian(F_cal,[E,I])\n",
    "Vt = jacobian(V_cal,[E,I])\n",
    "Mt = Ft*Vt.inverse()\n",
    "show(pretty_print(html('$R_t=$')))\n",
    "Rt = Mt[0,0]\n",
    "Rt"
   ]
  },
  {
   "cell_type": "code",
   "execution_count": 65,
   "metadata": {
    "scrolled": true
   },
   "outputs": [
    {
     "name": "stdout",
     "output_type": "stream",
     "text": [
      "S*c/(e + f)\n"
     ]
    }
   ],
   "source": [
    "print(Rt)"
   ]
  },
  {
   "cell_type": "code",
   "execution_count": 73,
   "metadata": {},
   "outputs": [
    {
     "data": {
      "text/html": [
       "<html><script type=\"math/tex; mode=display\">\\newcommand{\\Bold}[1]{\\mathbf{#1}}180.327868852459</script></html>"
      ],
      "text/plain": [
       "180.327868852459"
      ]
     },
     "execution_count": 73,
     "metadata": {},
     "output_type": "execute_result"
    }
   ],
   "source": [
    "R0(c=.55, e=.00066, f=.00239)"
   ]
  },
  {
   "cell_type": "code",
   "execution_count": 74,
   "metadata": {},
   "outputs": [
    {
     "data": {
      "image/png": "[encoded data removed]",
      "text/plain": [
       "Graphics object consisting of 1 graphics primitive"
      ]
     },
     "metadata": {},
     "output_type": "display_data"
    }
   ],
   "source": [
    "P = plot(Rt(c=.55, e=.00066, f=.00239),(S,0,1))\n",
    "P.show(axes_labels=['S(t)','$R_t$'], gridlines=True)"
   ]
  },
  {
   "cell_type": "code",
   "execution_count": 68,
   "metadata": {},
   "outputs": [],
   "source": [
    "###Análise da estabilidade"
   ]
  },
  {
   "cell_type": "code",
   "execution_count": 69,
   "metadata": {},
   "outputs": [
    {
     "data": {
      "text/html": [
       "<html><script type=\"math/tex; mode=display\">\\newcommand{\\Bold}[1]{\\mathbf{#1}}-4 \\, b c d e - 4 \\, b c d f + {\\left(I a + I c + d + e + f + \\frac{b}{I}\\right)}^{2}</script></html>"
      ],
      "text/plain": [
       "-4*b*c*d*e - 4*b*c*d*f + (I*a + I*c + d + e + f + b/I)^2"
      ]
     },
     "execution_count": 69,
     "metadata": {},
     "output_type": "execute_result"
    }
   ],
   "source": [
    "q = det(jack)\n",
    "p = jack[0, 0] + jack[1, 1] + jack[2, 2] + jack[3, 3]\n",
    "delta = p**2 -4*q\n",
    "delta"
   ]
  },
  {
   "cell_type": "code",
   "execution_count": 70,
   "metadata": {},
   "outputs": [
    {
     "data": {
      "text/html": [
       "<html><script type=\"math/tex; mode=display\">\\newcommand{\\Bold}[1]{\\mathbf{#1}}\\frac{I^{4} a^{2} + I^{4} c^{2} + 2 \\, I^{2} a b + I^{2} d^{2} + I^{2} e^{2} + I^{2} f^{2} + b^{2} + 2 \\, {\\left(I^{4} a + I^{2} b\\right)} c + 2 \\, {\\left(I^{3} a + I^{3} c + I b\\right)} d + 2 \\, {\\left(I^{3} a + I^{3} c + I b - {\\left(2 \\, I^{2} b c - I^{2}\\right)} d\\right)} e + 2 \\, {\\left(I^{3} a + I^{3} c + I^{2} e + I b - {\\left(2 \\, I^{2} b c - I^{2}\\right)} d\\right)} f}{I^{2}}</script></html>"
      ],
      "text/plain": [
       "(I^4*a^2 + I^4*c^2 + 2*I^2*a*b + I^2*d^2 + I^2*e^2 + I^2*f^2 + b^2 + 2*(I^4*a + I^2*b)*c + 2*(I^3*a + I^3*c + I*b)*d + 2*(I^3*a + I^3*c + I*b - (2*I^2*b*c - I^2)*d)*e + 2*(I^3*a + I^3*c + I^2*e + I*b - (2*I^2*b*c - I^2)*d)*f)/I^2"
      ]
     },
     "execution_count": 70,
     "metadata": {},
     "output_type": "execute_result"
    }
   ],
   "source": [
    "delta.simplify_full()"
   ]
  },
  {
   "cell_type": "code",
   "execution_count": 71,
   "metadata": {},
   "outputs": [
    {
     "data": {
      "text/html": [
       "<html><script type=\"math/tex; mode=display\">\\newcommand{\\Bold}[1]{\\mathbf{#1}}-I a - I c - d - e - f - \\frac{b}{I}</script></html>"
      ],
      "text/plain": [
       "-I*a - I*c - d - e - f - b/I"
      ]
     },
     "execution_count": 71,
     "metadata": {},
     "output_type": "execute_result"
    }
   ],
   "source": [
    "p"
   ]
  },
  {
   "cell_type": "code",
   "execution_count": 72,
   "metadata": {},
   "outputs": [
    {
     "data": {
      "text/html": [
       "<html><script type=\"math/tex; mode=display\">\\newcommand{\\Bold}[1]{\\mathbf{#1}}b c d e + b c d f</script></html>"
      ],
      "text/plain": [
       "b*c*d*e + b*c*d*f"
      ]
     },
     "execution_count": 72,
     "metadata": {},
     "output_type": "execute_result"
    }
   ],
   "source": [
    "q"
   ]
  },
  {
   "cell_type": "code",
   "execution_count": null,
   "metadata": {},
   "outputs": [],
   "source": []
  }
 ],
 "metadata": {
  "kernelspec": {
   "display_name": "SageMath 9.0",
   "language": "sage",
   "name": "sagemath"
  },
  "language_info": {
   "codemirror_mode": {
    "name": "ipython",
    "version": 3
   },
   "file_extension": ".py",
   "mimetype": "text/x-python",
   "name": "python",
   "nbconvert_exporter": "python",
   "pygments_lexer": "ipython3",
   "version": "3.7.3"
  }
 },
 "nbformat": 4,
 "nbformat_minor": 2
}
