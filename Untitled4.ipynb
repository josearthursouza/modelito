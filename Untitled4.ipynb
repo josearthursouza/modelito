{
 "cells": [
  {
   "cell_type": "code",
   "execution_count": 1,
   "metadata": {},
   "outputs": [],
   "source": [
    "from scipy.optimize import minimize \n",
    "import numpy as np\n",
    "import operator as op\n",
    "import math\n",
    "import random as rd"
   ]
  },
  {
   "cell_type": "code",
   "execution_count": 33,
   "metadata": {},
   "outputs": [],
   "source": [
    "def model(t, comp, params):\n",
    "    Q = comp[0]\n",
    "    S = comp[1]\n",
    "    E = comp[2]\n",
    "    I = comp[3]\n",
    "    Ic = comp[4]\n",
    "    R = comp[5]\n",
    "    D = comp[6]\n",
    "    \n",
    "    a1 = params[0]\n",
    "    a2 = params[1]\n",
    "    a3 = params[2]\n",
    "    b1 = params[3]\n",
    "    b2 = params[4]\n",
    "    b3 = params[5]\n",
    "    c = params[6]\n",
    "    d = params[7]\n",
    "    e = params[8]\n",
    "    f = params[9]\n",
    "    \n",
    "    lam = c*(I)\n",
    "    \n",
    "    q=a1*(a2**(-(t-a3)**2))\n",
    "    s=b1*(b2**(-(t-b3)**2))\n",
    "\n",
    "    return [\n",
    "        q*S -s*Q,             # dQ/dt\n",
    "        -q*S + s*Q - lam*S,   # dS/dt\n",
    "        lam*S - d*E,          # dE/dt\n",
    "        d*E - (e+f)*I,        # dI/dt\n",
    "        d*E,                  #dIc/dt\n",
    "        f*I,                  # dR/dt\n",
    "        e*I,                  # dD/dt\n",
    "    ]"
   ]
  },
  {
   "cell_type": "code",
   "execution_count": 34,
   "metadata": {},
   "outputs": [],
   "source": [
    "tempos = [15*k for k in range(18)]\n",
    "inits = [0, 1 - 1e-4, 0, 1e-4, 0,0, 0]"
   ]
  },
  {
   "cell_type": "code",
   "execution_count": null,
   "metadata": {},
   "outputs": [],
   "source": []
  },
  {
   "cell_type": "code",
   "execution_count": 67,
   "metadata": {},
   "outputs": [
    {
     "name": "stdout",
     "output_type": "stream",
     "text": [
      "Iteração 2\n"
     ]
    },
    {
     "name": "stderr",
     "output_type": "stream",
     "text": [
      "/opt/sagemath-9.0/local/lib/python3.7/site-packages/sage/repl/ipython_kernel/__main__.py:75: DeprecationWarning: elementwise comparison failed; this will raise an error in the future.\n"
     ]
    },
    {
     "name": "stdout",
     "output_type": "stream",
     "text": [
      "Iteração 3\n",
      "Iteração 4\n",
      "Iteração 5\n",
      "Iteração 6\n",
      "Iteração 7\n",
      "Iteração 8\n",
      "Iteração 9\n",
      "Iteração 10\n",
      "Iteração 11\n",
      "Iteração 12\n",
      "Iteração 13\n",
      "Iteração 14\n",
      "Iteração 15\n",
      "Iteração 16\n"
     ]
    },
    {
     "data": {
      "text/plain": [
       "True"
      ]
     },
     "execution_count": 67,
     "metadata": {},
     "output_type": "execute_result"
    }
   ],
   "source": [
    "pop = 11460000\n",
    "sol = []\n",
    "opt = [[], [], [], [], [], [], []]\n",
    "\n",
    "for i in range(2, 17):\n",
    "    print(\"Iteração\", i)\n",
    "    tspan = [tempos[i], tempos[i + 1]]\n",
    "    real_data = np.genfromtxt('csvzão.csv', delimiter=';')[1:]\n",
    "    data = []\n",
    "    if i == 2:\n",
    "        inits = [0, 1 - 1e-6, 0, 1e-6, 1e-6 , 0, 0]\n",
    "        x0 = [.3, 1.001, 30, .3, 1.001,200,.09,.04,.007,.06]\n",
    "    else:\n",
    "        inits = T.solution[-1][1]\n",
    "        x0 = params\n",
    "\n",
    "    for k in real_data:\n",
    "        if tspan[0] <= k[0] <= tspan[1]:\n",
    "            data.append((k[0], k[2]/pop, k[3]/pop))\n",
    "\n",
    "    def residual(params, data):\n",
    "        a1 = params[0]\n",
    "        a2 = params[1]\n",
    "        a3 = params[2]\n",
    "        b1 = params[3]\n",
    "        b2 = params[4]\n",
    "        b3 = params[5]\n",
    "        c = params[6]\n",
    "        d = params[7]\n",
    "        e = params[8]\n",
    "        f = params[9]\n",
    "\n",
    "        T = ode_solver()\n",
    "        T.function = model\n",
    "        T.ode_solve(tspan, inits, num_points = tspan[1] - tspan[0], params = [a1,a2,a3,b1,b2,b3,c,d,e,f])\n",
    "\n",
    "        model_out_0 = [(k[0], k[1][0]) for k in T.solution] #Q\n",
    "        model_out_1 = [(k[0], k[1][1]) for k in T.solution] #S\n",
    "        model_out_2 = [(k[0], k[1][2]) for k in T.solution] #E\n",
    "        model_out_3 = [(k[0], k[1][3]) for k in T.solution] #I\n",
    "        model_out_4 = [(k[0], k[1][4]) for k in T.solution] #Ic\n",
    "        model_out_5 = [(k[0], k[1][5]) for k in T.solution] #R\n",
    "        model_out_6 = [(k[0], k[1][6]) for k in T.solution] #D\n",
    "        \n",
    "        erro_I = 0\n",
    "        erro_D = 0\n",
    "        for i in range(tspan[1] - tspan[0]):\n",
    "            erro_I += (model_out_4[i][1] - data[i][1])**2\n",
    "            erro_D += (model_out_6[i][1] - data[i][2])**2\n",
    "\n",
    "        return 3.25*erro_I + erro_D\n",
    "\n",
    "   # cons = ({'type': 'ineq', 'fun': lambda x0: x0[0]},\n",
    "    #        {'type': 'ineq', 'fun': lambda x0: x0[1]},\n",
    "     #       {'type': 'ineq', 'fun': lambda x0: x0[2] - 1},\n",
    "      #      {'type': 'ineq', 'fun': lambda x0: - x0[2] + 30},\n",
    "       #     {'type': 'ineq', 'fun': lambda x0: x0[3]},\n",
    "        #    {'type': 'ineq', 'fun': lambda x0: x0[4]},\n",
    "         #   {'type': 'ineq', 'fun': lambda x0: x0[5]},\n",
    "          #  {'type': 'ineq', 'fun': lambda x0: 1 - x0[3]},\n",
    "           # {'type': 'ineq', 'fun': lambda x0: 1 - x0[4]},\n",
    "            #{'type': 'ineq', 'fun': lambda x0: 1 - x0[5]}\n",
    "            #)\n",
    "    Bounds=[[0,1],[1,2],[20,50],[0,1],[1,2],[170,260],[0,1],[0,1],[0,1],[0,1]]\n",
    "    #Bounds=((0,.5),(1,1.3),(25,35),(0,1),(1,1.3),(140,170),(0,.5,(0,.5),(0,.5),(0,.5))\n",
    "    \n",
    "    res = minimize(residual, x0, method = 'SLSQP', args = data, tol = 1e-10, bounds= Bounds)\n",
    "    params = res.x\n",
    "\n",
    "    T = ode_solver()\n",
    "    T.function = model\n",
    "    if i == 17:\n",
    "        T.ode_solve([tspan[0], 365], inits, num_points = tspan[1] - tspan[0], params = res.x)\n",
    "    else:\n",
    "        T.ode_solve(tspan, inits, num_points = tspan[1] - tspan[0], params = res.x)\n",
    "    \n",
    "    opt[0].append(res.x[0])\n",
    "    opt[1].append(res.x[1])\n",
    "    opt[2].append(res.x[2])\n",
    "    opt[3].append(res.x[3])\n",
    "    opt[4].append(res.x[4])\n",
    "    opt[5].append(res.x[5])\n",
    "    opt[6].append(res.x[6])\n",
    "    \n",
    "    \n",
    "    for item in T.solution:\n",
    "        sol.append(item)\n",
    "        \n",
    "\n",
    "\n",
    "model_out_0 = [(k[0], k[1][0]) for k in sol]\n",
    "model_out_1 = [(k[0], k[1][1]) for k in sol]\n",
    "model_out_2 = [(k[0], k[1][2]) for k in sol]\n",
    "model_out_3 = [(k[0], k[1][3]) for k in sol]\n",
    "model_out_4 = [(k[0], k[1][4]) for k in sol]\n",
    "model_out_5 = [(k[0], k[1][5]) for k in sol]\n",
    "model_out_6 = [(k[0], k[1][6]) for k in sol]\n",
    "\n",
    "plot0 = list_plot(model_out_0, color = 'green', pointsize = 10, alpha = 1, legend_label = 'Q')\n",
    "plot1 = list_plot(model_out_1, color = 'yellow', pointsize = 10, alpha = 1, legend_label = 'S')\n",
    "plot2 = list_plot(model_out_2, color = 'red', pointsize = 10, alpha = 1, legend_label = 'E')\n",
    "plot3 = list_plot(model_out_3, color = 'blue', pointsize = 10, alpha = 1, legend_label = 'I')\n",
    "plot4 = list_plot(model_out_4, color = 'purple', pointsize = 10, alpha = 1, legend_label = 'Ic')\n",
    "plot5 = list_plot(model_out_5, color = 'black', pointsize = 20, alpha = 1, legend_label = 'R')\n",
    "plot6 = list_plot(model_out_6, color = 'yellow', pointsize = 20, alpha = 1, legend_label = 'D')\n",
    "\n",
    "plot0.legend()\n",
    "plot1.legend()\n",
    "plot2.legend()\n",
    "plot3.legend()\n",
    "plot4.legend()\n",
    "plot5.legend()\n",
    "plot6.legend()\n",
    "\n",
    "real_data = np.genfromtxt('csvzão.csv', delimiter=';')[1:]\n",
    "data = []\n",
    "for k in real_data:\n",
    "    if tempos[2] <= k[0] <= tempos[-1]:\n",
    "        data.append((k[0], k[1]/pop, k[3]/pop))\n",
    "\n",
    "data1 = [(item[0], item[1]) for item in data]\n",
    "data2 = [(item[0], item[2]) for item in data]\n",
    "\n",
    "plot7 = list_plot(data1, color = 'red', pointsize = 20, alpha = 1, legend_label = 'Ir')\n",
    "plot8 = list_plot(data2, color = 'purple', pointsize = 20, alpha = 1, legend_label = 'Dr')\n",
    "\n",
    "plot7.legend()\n",
    "plot8.legend()"
   ]
  },
  {
   "cell_type": "code",
   "execution_count": 66,
   "metadata": {},
   "outputs": [
    {
     "ename": "ValueError",
     "evalue": "error solving",
     "output_type": "error",
     "traceback": [
      "\u001b[0;31m---------------------------------------------------------------------------\u001b[0m",
      "\u001b[0;31mRuntimeError\u001b[0m                              Traceback (most recent call last)",
      "\u001b[0;32m/opt/sagemath-9.0/local/lib/python3.7/site-packages/sage/calculus/ode.pyx\u001b[0m in \u001b[0;36msage.calculus.ode.ode_solver.ode_solve (build/cythonized/sage/calculus/ode.c:6765)\u001b[0;34m()\u001b[0m\n\u001b[1;32m    554\u001b[0m                         \u001b[0;32mif\u001b[0m \u001b[0;34m(\u001b[0m\u001b[0mstatus\u001b[0m \u001b[0;34m!=\u001b[0m \u001b[0mGSL_SUCCESS\u001b[0m\u001b[0;34m)\u001b[0m\u001b[0;34m:\u001b[0m\u001b[0;34m\u001b[0m\u001b[0;34m\u001b[0m\u001b[0m\n\u001b[0;32m--> 555\u001b[0;31m                             \u001b[0;32mraise\u001b[0m \u001b[0mRuntimeError\u001b[0m\u001b[0;34m\u001b[0m\u001b[0;34m\u001b[0m\u001b[0m\n\u001b[0m\u001b[1;32m    556\u001b[0m                     \u001b[0;32mexcept\u001b[0m \u001b[0mRuntimeError\u001b[0m\u001b[0;34m:\u001b[0m\u001b[0;34m\u001b[0m\u001b[0;34m\u001b[0m\u001b[0m\n",
      "\u001b[0;31mRuntimeError\u001b[0m: ",
      "\nDuring handling of the above exception, another exception occurred:\n",
      "\u001b[0;31mValueError\u001b[0m                                Traceback (most recent call last)",
      "\u001b[0;32m<ipython-input-66-c8e751a77197>\u001b[0m in \u001b[0;36m<module>\u001b[0;34m()\u001b[0m\n\u001b[1;32m     13\u001b[0m     \u001b[0;32melse\u001b[0m\u001b[0;34m:\u001b[0m\u001b[0;34m\u001b[0m\u001b[0;34m\u001b[0m\u001b[0m\n\u001b[1;32m     14\u001b[0m         T.ode_solve(tspan, inits, num_points = tspan[Integer(1)] - tspan[Integer(0)],\n\u001b[0;32m---> 15\u001b[0;31m                     params = [opt[Integer(0)][i], opt[Integer(1)][i], opt[Integer(2)][i], opt[Integer(3)][i], opt[Integer(4)][i], opt[Integer(5)][i], opt[Integer(6)][i]])\n\u001b[0m\u001b[1;32m     16\u001b[0m     \u001b[0minits\u001b[0m \u001b[0;34m=\u001b[0m \u001b[0mT\u001b[0m\u001b[0;34m.\u001b[0m\u001b[0msolution\u001b[0m\u001b[0;34m[\u001b[0m\u001b[0;34m-\u001b[0m\u001b[0mInteger\u001b[0m\u001b[0;34m(\u001b[0m\u001b[0;36m1\u001b[0m\u001b[0;34m)\u001b[0m\u001b[0;34m]\u001b[0m\u001b[0;34m[\u001b[0m\u001b[0mInteger\u001b[0m\u001b[0;34m(\u001b[0m\u001b[0;36m1\u001b[0m\u001b[0;34m)\u001b[0m\u001b[0;34m]\u001b[0m\u001b[0;34m\u001b[0m\u001b[0;34m\u001b[0m\u001b[0m\n\u001b[1;32m     17\u001b[0m     \u001b[0;32mfor\u001b[0m \u001b[0mitem\u001b[0m \u001b[0;32min\u001b[0m \u001b[0mT\u001b[0m\u001b[0;34m.\u001b[0m\u001b[0msolution\u001b[0m\u001b[0;34m:\u001b[0m\u001b[0;34m\u001b[0m\u001b[0;34m\u001b[0m\u001b[0m\n",
      "\u001b[0;32m/opt/sagemath-9.0/local/lib/python3.7/site-packages/sage/calculus/ode.pyx\u001b[0m in \u001b[0;36msage.calculus.ode.ode_solver.ode_solve (build/cythonized/sage/calculus/ode.c:6865)\u001b[0;34m()\u001b[0m\n\u001b[1;32m    560\u001b[0m                         \u001b[0msig_free\u001b[0m\u001b[0;34m(\u001b[0m\u001b[0my\u001b[0m\u001b[0;34m)\u001b[0m\u001b[0;34m\u001b[0m\u001b[0;34m\u001b[0m\u001b[0m\n\u001b[1;32m    561\u001b[0m                         \u001b[0msig_free\u001b[0m\u001b[0;34m(\u001b[0m\u001b[0mscale_abs_array\u001b[0m\u001b[0;34m)\u001b[0m\u001b[0;34m\u001b[0m\u001b[0;34m\u001b[0m\u001b[0m\n\u001b[0;32m--> 562\u001b[0;31m                         \u001b[0;32mraise\u001b[0m \u001b[0mValueError\u001b[0m\u001b[0;34m(\u001b[0m\u001b[0;34m\"error solving\"\u001b[0m\u001b[0;34m)\u001b[0m\u001b[0;34m\u001b[0m\u001b[0;34m\u001b[0m\u001b[0m\n\u001b[0m\u001b[1;32m    563\u001b[0m \u001b[0;34m\u001b[0m\u001b[0m\n\u001b[1;32m    564\u001b[0m                 \u001b[0;32mfor\u001b[0m \u001b[0mj\u001b[0m  \u001b[0;32mfrom\u001b[0m \u001b[0;36m0\u001b[0m\u001b[0;34m<=\u001b[0m\u001b[0mj\u001b[0m\u001b[0;34m<\u001b[0m\u001b[0mdim\u001b[0m\u001b[0;34m:\u001b[0m\u001b[0;34m\u001b[0m\u001b[0;34m\u001b[0m\u001b[0m\n",
      "\u001b[0;31mValueError\u001b[0m: error solving"
     ]
    }
   ],
   "source": [
    "#não rodar\n",
    "\n",
    "sol = []\n",
    "inits = [0, 1 - 1e-4, 0, 1e-4, 0,0, 0]\n",
    "\n",
    "for i in range(len(opt[0])):\n",
    "    tspan = [tempos[i + 2], tempos[i + 3]]\n",
    "    T = ode_solver()\n",
    "    T.function = model\n",
    "    if i == len(opt[0]) - 1:\n",
    "        T.ode_solve(tspan, inits, num_points = tspan[1] - tspan[0],\n",
    "                    params = [opt[0][i], opt[1][i], opt[2][i], opt[3][i], opt[4][i], opt[5][i], opt[6][i]])\n",
    "    else:\n",
    "        T.ode_solve(tspan, inits, num_points = tspan[1] - tspan[0],\n",
    "                    params = [opt[0][i], opt[1][i], opt[2][i], opt[3][i], opt[4][i], opt[5][i], opt[6][i]])\n",
    "    inits = T.solution[-1][1]\n",
    "    for item in T.solution:\n",
    "        sol.append(item)"
   ]
  },
  {
   "cell_type": "code",
   "execution_count": 71,
   "metadata": {},
   "outputs": [
    {
     "data": {
      "image/png": "[encoded data removed]",
      "text/plain": [
       "Graphics object consisting of 2 graphics primitives"
      ]
     },
     "metadata": {},
     "output_type": "display_data"
    }
   ],
   "source": [
    "show(plot4 + plot7)"
   ]
  },
  {
   "cell_type": "code",
   "execution_count": 72,
   "metadata": {},
   "outputs": [
    {
     "data": {
      "image/png": "[encoded data removed]",
      "text/plain": [
       "Graphics object consisting of 1 graphics primitive"
      ]
     },
     "metadata": {},
     "output_type": "display_data"
    }
   ],
   "source": [
    "show(plot6)"
   ]
  },
  {
   "cell_type": "code",
   "execution_count": null,
   "metadata": {},
   "outputs": [],
   "source": []
  }
 ],
 "metadata": {
  "kernelspec": {
   "display_name": "SageMath 9.0",
   "language": "sage",
   "name": "sagemath"
  },
  "language_info": {
   "codemirror_mode": {
    "name": "ipython",
    "version": 3
   },
   "file_extension": ".py",
   "mimetype": "text/x-python",
   "name": "python",
   "nbconvert_exporter": "python",
   "pygments_lexer": "ipython3",
   "version": "3.7.3"
  }
 },
 "nbformat": 4,
 "nbformat_minor": 2
}
